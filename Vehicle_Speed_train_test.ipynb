{
 "cells": [
  {
   "cell_type": "code",
   "execution_count": 0,
   "metadata": {
    "colab": {},
    "colab_type": "code",
    "id": "totWXHz2S0V3"
   },
   "outputs": [],
   "source": [
    "# !kill -9 -1"
   ]
  },
  {
   "cell_type": "code",
   "execution_count": 1,
   "metadata": {
    "colab": {
     "base_uri": "https://localhost:8080/",
     "height": 292
    },
    "colab_type": "code",
    "id": "JxHfz9H1-T1X",
    "outputId": "e4a63585-2226-4343-d920-43b0e87da21f"
   },
   "outputs": [
    {
     "name": "stdout",
     "output_type": "stream",
     "text": [
      "Collecting keras\n",
      "\u001b[?25l  Downloading https://files.pythonhosted.org/packages/5e/10/aa32dad071ce52b5502266b5c659451cfd6ffcbf14e6c8c4f16c0ff5aaab/Keras-2.2.4-py2.py3-none-any.whl (312kB)\n",
      "\r",
      "\u001b[K    3% |█                               | 10kB 18.0MB/s eta 0:00:01\r",
      "\u001b[K    6% |██                              | 20kB 4.2MB/s eta 0:00:01\r",
      "\u001b[K    9% |███▏                            | 30kB 5.9MB/s eta 0:00:01\r",
      "\u001b[K    13% |████▏                           | 40kB 3.9MB/s eta 0:00:01\r",
      "\u001b[K    16% |█████▎                          | 51kB 4.8MB/s eta 0:00:01\r",
      "\u001b[K    19% |██████▎                         | 61kB 5.7MB/s eta 0:00:01\r",
      "\u001b[K    22% |███████▍                        | 71kB 6.3MB/s eta 0:00:01\r",
      "\u001b[K    26% |████████▍                       | 81kB 7.1MB/s eta 0:00:01\r",
      "\u001b[K    29% |█████████▍                      | 92kB 7.8MB/s eta 0:00:01\r",
      "\u001b[K    32% |██████████▌                     | 102kB 6.4MB/s eta 0:00:01\r",
      "\u001b[K    36% |███████████▌                    | 112kB 6.5MB/s eta 0:00:01\r",
      "\u001b[K    39% |████████████▋                   | 122kB 8.8MB/s eta 0:00:01\r",
      "\u001b[K    42% |█████████████▋                  | 133kB 8.7MB/s eta 0:00:01\r",
      "\u001b[K    45% |██████████████▊                 | 143kB 15.3MB/s eta 0:00:01\r",
      "\u001b[K    49% |███████████████▊                | 153kB 15.3MB/s eta 0:00:01\r",
      "\u001b[K    52% |████████████████▊               | 163kB 15.3MB/s eta 0:00:01\r",
      "\u001b[K    55% |█████████████████▉              | 174kB 15.7MB/s eta 0:00:01\r",
      "\u001b[K    58% |██████████████████▉             | 184kB 15.8MB/s eta 0:00:01\r",
      "\u001b[K    62% |████████████████████            | 194kB 15.8MB/s eta 0:00:01\r",
      "\u001b[K    65% |█████████████████████           | 204kB 37.9MB/s eta 0:00:01\r",
      "\u001b[K    68% |██████████████████████          | 215kB 20.0MB/s eta 0:00:01\r",
      "\u001b[K    72% |███████████████████████         | 225kB 20.2MB/s eta 0:00:01\r",
      "\u001b[K    75% |████████████████████████▏       | 235kB 13.4MB/s eta 0:00:01\r",
      "\u001b[K    78% |█████████████████████████▏      | 245kB 13.2MB/s eta 0:00:01\r",
      "\u001b[K    81% |██████████████████████████▏     | 256kB 13.2MB/s eta 0:00:01\r",
      "\u001b[K    85% |███████████████████████████▎    | 266kB 12.6MB/s eta 0:00:01\r",
      "\u001b[K    88% |████████████████████████████▎   | 276kB 12.8MB/s eta 0:00:01\r",
      "\u001b[K    91% |█████████████████████████████▍  | 286kB 12.8MB/s eta 0:00:01\r",
      "\u001b[K    95% |██████████████████████████████▍ | 296kB 12.7MB/s eta 0:00:01\r",
      "\u001b[K    98% |███████████████████████████████▌| 307kB 13.0MB/s eta 0:00:01\r",
      "\u001b[K    100% |████████████████████████████████| 317kB 13.9MB/s \n",
      "\u001b[?25hRequirement already satisfied, skipping upgrade: keras-applications>=1.0.6 in /usr/local/lib/python3.6/dist-packages (from keras) (1.0.6)\n",
      "Requirement already satisfied, skipping upgrade: h5py in /usr/local/lib/python3.6/dist-packages (from keras) (2.8.0)\n",
      "Requirement already satisfied, skipping upgrade: pyyaml in /usr/local/lib/python3.6/dist-packages (from keras) (3.13)\n",
      "Requirement already satisfied, skipping upgrade: keras-preprocessing>=1.0.5 in /usr/local/lib/python3.6/dist-packages (from keras) (1.0.5)\n",
      "Requirement already satisfied, skipping upgrade: six>=1.9.0 in /usr/local/lib/python3.6/dist-packages (from keras) (1.11.0)\n",
      "Requirement already satisfied, skipping upgrade: scipy>=0.14 in /usr/local/lib/python3.6/dist-packages (from keras) (0.19.1)\n",
      "Requirement already satisfied, skipping upgrade: numpy>=1.9.1 in /usr/local/lib/python3.6/dist-packages (from keras) (1.14.6)\n",
      "Installing collected packages: keras\n",
      "  Found existing installation: Keras 2.1.6\n",
      "    Uninstalling Keras-2.1.6:\n",
      "      Successfully uninstalled Keras-2.1.6\n",
      "Successfully installed keras-2.2.4\n"
     ]
    }
   ],
   "source": [
    "!pip install keras --upgrade"
   ]
  },
  {
   "cell_type": "code",
   "execution_count": 2,
   "metadata": {
    "colab": {
     "base_uri": "https://localhost:8080/",
     "height": 122
    },
    "colab_type": "code",
    "id": "WaaHCKWuQrg-",
    "outputId": "44b15ccb-713e-4a85-8200-f582ff7201d7"
   },
   "outputs": [
    {
     "name": "stdout",
     "output_type": "stream",
     "text": [
      "Go to this URL in a browser: https://accounts.google.com/o/oauth2/auth?client_id=947318989803-6bn6qk8qdgf4n4g3pfee6491hc0brc4i.apps.googleusercontent.com&redirect_uri=urn%3Aietf%3Awg%3Aoauth%3A2.0%3Aoob&scope=email%20https%3A%2F%2Fwww.googleapis.com%2Fauth%2Fdocs.test%20https%3A%2F%2Fwww.googleapis.com%2Fauth%2Fdrive%20https%3A%2F%2Fwww.googleapis.com%2Fauth%2Fdrive.photos.readonly%20https%3A%2F%2Fwww.googleapis.com%2Fauth%2Fpeopleapi.readonly&response_type=code\n",
      "\n",
      "Enter your authorization code:\n",
      "··········\n",
      "Mounted at /content/gdrive\n"
     ]
    }
   ],
   "source": [
    "from google.colab import drive\n",
    "drive.mount('/content/gdrive')"
   ]
  },
  {
   "cell_type": "code",
   "execution_count": 0,
   "metadata": {
    "colab": {},
    "colab_type": "code",
    "id": "0M2n1-x9xkM_"
   },
   "outputs": [],
   "source": [
    "!cp /content/gdrive/My\\ Drive/speed/* ."
   ]
  },
  {
   "cell_type": "code",
   "execution_count": 4,
   "metadata": {
    "colab": {
     "base_uri": "https://localhost:8080/",
     "height": 34
    },
    "colab_type": "code",
    "id": "G5bt2TSUxzCB",
    "outputId": "73a0c87f-5e17-45c6-a1da-92b8b463314f"
   },
   "outputs": [
    {
     "name": "stdout",
     "output_type": "stream",
     "text": [
      "\u001b[0m\u001b[01;34mgdrive\u001b[0m/  images.zip  \u001b[01;34msample_data\u001b[0m/  train.txt  weights.h5\n"
     ]
    }
   ],
   "source": [
    "ls"
   ]
  },
  {
   "cell_type": "code",
   "execution_count": 0,
   "metadata": {
    "colab": {},
    "colab_type": "code",
    "id": "isqJB5_5xzRB"
   },
   "outputs": [],
   "source": [
    "!unzip -q images.zip"
   ]
  },
  {
   "cell_type": "code",
   "execution_count": 6,
   "metadata": {
    "colab": {
     "base_uri": "https://localhost:8080/",
     "height": 34
    },
    "colab_type": "code",
    "id": "JCHcpHH-yAhu",
    "outputId": "6abddc42-1168-4e01-ec5d-17d0c8c01fac"
   },
   "outputs": [
    {
     "name": "stdout",
     "output_type": "stream",
     "text": [
      "\u001b[0m\u001b[01;34mgdrive\u001b[0m/  \u001b[01;34mimages\u001b[0m/  images.zip  \u001b[01;34msample_data\u001b[0m/  train.txt  weights.h5\n"
     ]
    }
   ],
   "source": [
    "ls"
   ]
  },
  {
   "cell_type": "code",
   "execution_count": 7,
   "metadata": {
    "colab": {
     "base_uri": "https://localhost:8080/",
     "height": 34
    },
    "colab_type": "code",
    "id": "sgmEHxcLE1IK",
    "outputId": "3a0e7241-3ee2-4d6d-e220-f336b1868049"
   },
   "outputs": [
    {
     "name": "stdout",
     "output_type": "stream",
     "text": [
      "20400\n"
     ]
    }
   ],
   "source": [
    "import glob\n",
    "\n",
    "X = sorted(glob.glob('images/*'))\n",
    "print(len(X))"
   ]
  },
  {
   "cell_type": "code",
   "execution_count": 8,
   "metadata": {
    "colab": {
     "base_uri": "https://localhost:8080/",
     "height": 34
    },
    "colab_type": "code",
    "id": "UKnZRD9XE4DR",
    "outputId": "d59e410a-3724-46dd-8aea-9efd66f71a91"
   },
   "outputs": [
    {
     "name": "stdout",
     "output_type": "stream",
     "text": [
      "20400\n"
     ]
    }
   ],
   "source": [
    "f = open('train.txt', 'r')\n",
    "y = f.read().split('\\n')\n",
    "f.close()\n",
    "\n",
    "print(len(y))"
   ]
  },
  {
   "cell_type": "code",
   "execution_count": 9,
   "metadata": {
    "colab": {
     "base_uri": "https://localhost:8080/",
     "height": 68
    },
    "colab_type": "code",
    "id": "rBZEK-BXE8eq",
    "outputId": "44ed083c-a730-4480-8821-0f1262cad096"
   },
   "outputs": [
    {
     "name": "stdout",
     "output_type": "stream",
     "text": [
      "10200 5100 5100\n",
      "['000000.jpg', 28.105569] ['000001.jpg', 28.105569] ['000002.jpg', 28.106527]\n",
      "['003248.jpg', 21.573246] ['009441.jpg', 3.901046] ['010826.jpg', 6.366494]\n"
     ]
    }
   ],
   "source": [
    "import pandas as pd\n",
    "from sklearn.utils import shuffle\n",
    "\n",
    "data_train, data_valid, data_test = [], [], []\n",
    "\n",
    "for i in range(len(X)):\n",
    "    if i%4 in [0, 3]:\n",
    "        data_train.append([X[i].split('/')[-1], float(y[i])])\n",
    "    elif i%4 == 1:\n",
    "        data_valid.append([X[i].split('/')[-1], float(y[i])])       \n",
    "    elif i%4 == 2: \n",
    "        data_test.append([X[i].split('/')[-1], float(y[i])])\n",
    "        \n",
    "print(len(data_train), len(data_valid), len(data_test))\n",
    "print(data_train[0], data_valid[0], data_test[0]) \n",
    "        \n",
    "data_train = shuffle(data_train) \n",
    "data_valid = shuffle(data_valid)\n",
    "data_test = shuffle(data_test) \n",
    "        \n",
    "print(data_train[0], data_valid[0], data_test[0])        "
   ]
  },
  {
   "cell_type": "code",
   "execution_count": 10,
   "metadata": {
    "colab": {
     "base_uri": "https://localhost:8080/",
     "height": 1105
    },
    "colab_type": "code",
    "id": "JLoavw3CFAAn",
    "outputId": "d9e81f18-0918-4cde-b7e0-3fa20a5a12ad"
   },
   "outputs": [
    {
     "name": "stdout",
     "output_type": "stream",
     "text": [
      "       file_name      value\n",
      "0     010826.jpg   6.366494\n",
      "1     000322.jpg  18.120178\n",
      "2     016586.jpg   2.792415\n",
      "3     011722.jpg   7.265192\n",
      "4     003574.jpg  21.914365\n",
      "5     006538.jpg  15.499196\n",
      "6     013894.jpg   9.496358\n",
      "7     006354.jpg  13.018755\n",
      "8     010658.jpg   0.559678\n",
      "9     009986.jpg   9.196102\n",
      "10    017314.jpg  10.428071\n",
      "11    016558.jpg   4.039448\n",
      "12    017642.jpg  13.775368\n",
      "13    017034.jpg   1.645719\n",
      "14    014498.jpg   0.306252\n",
      "15    008002.jpg  22.806586\n",
      "16    018974.jpg   5.581401\n",
      "17    005850.jpg  18.240682\n",
      "18    004758.jpg  22.037887\n",
      "19    010618.jpg   1.461054\n",
      "20    016202.jpg  11.298519\n",
      "21    015522.jpg   1.422830\n",
      "22    000546.jpg  16.922980\n",
      "23    009270.jpg   6.950560\n",
      "24    016146.jpg   2.382183\n",
      "25    013798.jpg  10.645881\n",
      "26    005410.jpg  24.389572\n",
      "27    008426.jpg  20.993471\n",
      "28    011946.jpg   7.464756\n",
      "29    018922.jpg   2.696704\n",
      "...          ...        ...\n",
      "5070  008134.jpg  25.631462\n",
      "5071  006502.jpg  14.520460\n",
      "5072  010414.jpg   7.368636\n",
      "5073  007770.jpg  24.561847\n",
      "5074  001226.jpg  15.959220\n",
      "5075  008642.jpg  11.739436\n",
      "5076  009822.jpg   7.810034\n",
      "5077  010718.jpg   4.253927\n",
      "5078  013214.jpg   7.720841\n",
      "5079  015078.jpg  13.820147\n",
      "5080  010154.jpg   2.647751\n",
      "5081  008114.jpg  25.009059\n",
      "5082  005254.jpg  23.055063\n",
      "5083  018962.jpg   5.117097\n",
      "5084  002994.jpg  21.704694\n",
      "5085  006390.jpg  14.253619\n",
      "5086  001742.jpg  19.242342\n",
      "5087  014274.jpg   4.401757\n",
      "5088  009730.jpg   7.582629\n",
      "5089  012018.jpg   5.989960\n",
      "5090  010958.jpg   6.995627\n",
      "5091  007574.jpg  23.909326\n",
      "5092  008722.jpg  12.601413\n",
      "5093  019558.jpg   1.828441\n",
      "5094  019134.jpg  10.545947\n",
      "5095  016034.jpg   2.184448\n",
      "5096  014926.jpg  14.159558\n",
      "5097  016158.jpg   4.164614\n",
      "5098  018970.jpg   5.393663\n",
      "5099  017870.jpg   1.129343\n",
      "\n",
      "[5100 rows x 2 columns]\n"
     ]
    }
   ],
   "source": [
    "train_frame = pd.DataFrame(data_train, columns=['file_name', 'value'])\n",
    "valid_frame = pd.DataFrame(data_valid, columns=['file_name', 'value'])\n",
    "test_frame = pd.DataFrame(data_test, columns=['file_name', 'value'])\n",
    "print(test_frame)"
   ]
  },
  {
   "cell_type": "code",
   "execution_count": 11,
   "metadata": {
    "colab": {
     "base_uri": "https://localhost:8080/",
     "height": 68
    },
    "colab_type": "code",
    "id": "jTuvFCCLFjqQ",
    "outputId": "fe5b7039-e9e2-484d-bffc-f3f287ccc93d"
   },
   "outputs": [
    {
     "name": "stderr",
     "output_type": "stream",
     "text": [
      "Using TensorFlow backend.\n"
     ]
    },
    {
     "name": "stdout",
     "output_type": "stream",
     "text": [
      "2.2.4\n",
      "1.12.0-rc2\n"
     ]
    }
   ],
   "source": [
    "import keras\n",
    "import tensorflow as tf\n",
    "\n",
    "print(keras.__version__)\n",
    "print(tf.__version__)"
   ]
  },
  {
   "cell_type": "code",
   "execution_count": 0,
   "metadata": {
    "colab": {},
    "colab_type": "code",
    "id": "RjMza7edIcD4"
   },
   "outputs": [],
   "source": [
    "from keras.applications import VGG16\n",
    "from keras import models\n",
    "from keras import layers\n",
    "from keras import optimizers\n",
    "from keras import callbacks\n",
    "import keras.backend as K\n",
    "from keras.preprocessing.image import ImageDataGenerator\n",
    "\n",
    "def get_conv_base():\n",
    "    \n",
    "    conv_base = VGG16(weights='imagenet',\n",
    "                      include_top=False,\n",
    "                     input_shape=(150,150,3))\n",
    "\n",
    "    conv_base.trainable = True\n",
    "\n",
    "    set_trainable = False\n",
    "    for layer in conv_base.layers:\n",
    "        if layer.name == 'block5_conv1':\n",
    "            set_trainable = True\n",
    "        if set_trainable:\n",
    "            layer.trainable = True\n",
    "        else:\n",
    "            layer.trainable = False\n",
    "\n",
    "    #conv_base.summary()\n",
    "    \n",
    "    return conv_base\n",
    "\n",
    "def get_top_model():\n",
    "    \n",
    "    model = models.Sequential()\n",
    "    model.add(layers.Dense(256, activation='relu', input_dim=4 * 4 * 512))\n",
    "    model.add(layers.Dropout(0.5))\n",
    "    model.add(layers.Dense(128, activation='relu'))\n",
    "    model.add(layers.Dropout(0.5))\n",
    "    model.add(layers.Dense(1))\n",
    "    \n",
    "    return model"
   ]
  },
  {
   "cell_type": "code",
   "execution_count": 0,
   "metadata": {
    "colab": {},
    "colab_type": "code",
    "id": "m07NfvMoMp7s"
   },
   "outputs": [],
   "source": [
    "def get_model():\n",
    "    \n",
    "    model = models.Sequential()\n",
    "    model.add(get_conv_base())\n",
    "    model.add(layers.Flatten())\n",
    "    model.add(get_top_model())\n",
    "    model.summary()\n",
    "    \n",
    "    return model"
   ]
  },
  {
   "cell_type": "code",
   "execution_count": 0,
   "metadata": {
    "colab": {},
    "colab_type": "code",
    "id": "C0qOvBxENqZU"
   },
   "outputs": [],
   "source": [
    "batch_size = 256\n",
    "image_size = 150\n",
    "lr = 0.001\n",
    "num_epochs = 50"
   ]
  },
  {
   "cell_type": "code",
   "execution_count": 15,
   "metadata": {
    "colab": {
     "base_uri": "https://localhost:8080/",
     "height": 68
    },
    "colab_type": "code",
    "id": "lWRg4m8cNteo",
    "outputId": "9595712d-a5fc-4b70-91a2-434b50499027"
   },
   "outputs": [
    {
     "name": "stdout",
     "output_type": "stream",
     "text": [
      "Found 10200 images.\n",
      "Found 5100 images.\n",
      "Found 5100 images.\n"
     ]
    }
   ],
   "source": [
    "datagen = ImageDataGenerator(\n",
    "        rescale=1./255)\n",
    "\n",
    "train_generator = datagen.flow_from_dataframe(train_frame, './images', x_col='file_name',\n",
    "                                              y_col='value', target_size=(image_size, image_size),\n",
    "                                              batch_size=batch_size, class_mode='other')\n",
    "valid_generator = datagen.flow_from_dataframe(valid_frame, './images', x_col='file_name',\n",
    "                                              y_col='value', target_size=(image_size, image_size),\n",
    "                                              batch_size=batch_size, class_mode='other')\n",
    "test_generator = datagen.flow_from_dataframe(test_frame, './images', x_col='file_name',\n",
    "                                              y_col='value', target_size=(image_size, image_size),\n",
    "                                              batch_size=batch_size, class_mode='other')"
   ]
  },
  {
   "cell_type": "code",
   "execution_count": 0,
   "metadata": {
    "colab": {
     "base_uri": "https://localhost:8080/",
     "height": 292
    },
    "colab_type": "code",
    "id": "2LmixhprNcVT",
    "outputId": "fb2c6522-e19b-42f5-b48a-7628bd7877b4"
   },
   "outputs": [
    {
     "name": "stdout",
     "output_type": "stream",
     "text": [
      "Downloading data from https://github.com/fchollet/deep-learning-models/releases/download/v0.1/vgg16_weights_tf_dim_ordering_tf_kernels_notop.h5\n",
      "58892288/58889256 [==============================] - 2s 0us/step\n",
      "_________________________________________________________________\n",
      "Layer (type)                 Output Shape              Param #   \n",
      "=================================================================\n",
      "vgg16 (Model)                (None, 4, 4, 512)         14714688  \n",
      "_________________________________________________________________\n",
      "flatten_1 (Flatten)          (None, 8192)              0         \n",
      "_________________________________________________________________\n",
      "sequential_2 (Sequential)    (None, 1)                 2130433   \n",
      "=================================================================\n",
      "Total params: 16,845,121\n",
      "Trainable params: 9,209,857\n",
      "Non-trainable params: 7,635,264\n",
      "_________________________________________________________________\n"
     ]
    }
   ],
   "source": [
    "model = get_model()\n",
    "\n",
    "model.compile(optimizer=optimizers.Adam(lr), loss='mse', metrics=['mae'])\n",
    "\n",
    "checkpoint = callbacks.ModelCheckpoint('weights.h5',\n",
    "                                        monitor='val_mean_absolute_error',\n",
    "                                        mode='min', save_weights_only=True,\n",
    "                                        save_best_only=True, verbose=1)"
   ]
  },
  {
   "cell_type": "code",
   "execution_count": 0,
   "metadata": {
    "colab": {
     "base_uri": "https://localhost:8080/",
     "height": 3437
    },
    "colab_type": "code",
    "id": "X41TjilxNWOd",
    "outputId": "818421d9-63a5-4a12-c708-943cc9ce1f87"
   },
   "outputs": [
    {
     "name": "stdout",
     "output_type": "stream",
     "text": [
      "Epoch 1/50\n",
      "39/39 [==============================] - 108s 3s/step - loss: 128.0137 - mean_absolute_error: 8.3476 - val_loss: 22.7005 - val_mean_absolute_error: 3.5013\n",
      "\n",
      "Epoch 00001: val_mean_absolute_error improved from inf to 3.50130, saving model to weights.h5\n",
      "Epoch 2/50\n",
      "39/39 [==============================] - 98s 3s/step - loss: 22.0833 - mean_absolute_error: 3.5472 - val_loss: 9.5540 - val_mean_absolute_error: 2.3632\n",
      "\n",
      "Epoch 00002: val_mean_absolute_error improved from 3.50130 to 2.36323, saving model to weights.h5\n",
      "Epoch 3/50\n",
      "39/39 [==============================] - 85s 2s/step - loss: 15.7198 - mean_absolute_error: 2.9554 - val_loss: 7.6214 - val_mean_absolute_error: 2.1621\n",
      "\n",
      "Epoch 00003: val_mean_absolute_error improved from 2.36323 to 2.16209, saving model to weights.h5\n",
      "Epoch 4/50\n",
      "39/39 [==============================] - 88s 2s/step - loss: 12.0805 - mean_absolute_error: 2.5408 - val_loss: 4.1635 - val_mean_absolute_error: 1.5910\n",
      "\n",
      "Epoch 00004: val_mean_absolute_error improved from 2.16209 to 1.59101, saving model to weights.h5\n",
      "Epoch 5/50\n",
      "39/39 [==============================] - 88s 2s/step - loss: 10.4899 - mean_absolute_error: 2.3642 - val_loss: 3.1796 - val_mean_absolute_error: 1.4385\n",
      "\n",
      "Epoch 00005: val_mean_absolute_error improved from 1.59101 to 1.43846, saving model to weights.h5\n",
      "Epoch 6/50\n",
      "39/39 [==============================] - 88s 2s/step - loss: 8.8680 - mean_absolute_error: 2.1473 - val_loss: 4.1392 - val_mean_absolute_error: 1.6480\n",
      "\n",
      "Epoch 00006: val_mean_absolute_error did not improve from 1.43846\n",
      "Epoch 7/50\n",
      "39/39 [==============================] - 87s 2s/step - loss: 9.2796 - mean_absolute_error: 2.2043 - val_loss: 10.6640 - val_mean_absolute_error: 2.7919\n",
      "\n",
      "Epoch 00007: val_mean_absolute_error did not improve from 1.43846\n",
      "Epoch 8/50\n",
      "39/39 [==============================] - 87s 2s/step - loss: 9.0279 - mean_absolute_error: 2.1600 - val_loss: 3.2267 - val_mean_absolute_error: 1.4389\n",
      "\n",
      "Epoch 00008: val_mean_absolute_error did not improve from 1.43846\n",
      "Epoch 9/50\n",
      "39/39 [==============================] - 87s 2s/step - loss: 7.5743 - mean_absolute_error: 1.9368 - val_loss: 7.8769 - val_mean_absolute_error: 2.4029\n",
      "\n",
      "Epoch 00009: val_mean_absolute_error did not improve from 1.43846\n",
      "Epoch 10/50\n",
      "39/39 [==============================] - 87s 2s/step - loss: 7.7575 - mean_absolute_error: 1.9671 - val_loss: 2.9111 - val_mean_absolute_error: 1.3606\n",
      "\n",
      "Epoch 00010: val_mean_absolute_error improved from 1.43846 to 1.36056, saving model to weights.h5\n",
      "Epoch 11/50\n",
      "39/39 [==============================] - 87s 2s/step - loss: 7.3794 - mean_absolute_error: 1.8990 - val_loss: 1.4668 - val_mean_absolute_error: 0.9307\n",
      "\n",
      "Epoch 00011: val_mean_absolute_error improved from 1.36056 to 0.93067, saving model to weights.h5\n",
      "Epoch 12/50\n",
      "39/39 [==============================] - 88s 2s/step - loss: 7.2517 - mean_absolute_error: 1.8874 - val_loss: 0.9756 - val_mean_absolute_error: 0.7669\n",
      "\n",
      "Epoch 00012: val_mean_absolute_error improved from 0.93067 to 0.76693, saving model to weights.h5\n",
      "Epoch 13/50\n",
      "39/39 [==============================] - 87s 2s/step - loss: 6.8445 - mean_absolute_error: 1.8197 - val_loss: 2.2944 - val_mean_absolute_error: 1.2411\n",
      "\n",
      "Epoch 00013: val_mean_absolute_error did not improve from 0.76693\n",
      "Epoch 14/50\n",
      "39/39 [==============================] - 87s 2s/step - loss: 6.8517 - mean_absolute_error: 1.8127 - val_loss: 0.5734 - val_mean_absolute_error: 0.5800\n",
      "\n",
      "Epoch 00014: val_mean_absolute_error improved from 0.76693 to 0.57998, saving model to weights.h5\n",
      "Epoch 15/50\n",
      "39/39 [==============================] - 88s 2s/step - loss: 6.8637 - mean_absolute_error: 1.8124 - val_loss: 3.2586 - val_mean_absolute_error: 1.5157\n",
      "\n",
      "Epoch 00015: val_mean_absolute_error did not improve from 0.57998\n",
      "Epoch 16/50\n",
      "39/39 [==============================] - 88s 2s/step - loss: 6.7031 - mean_absolute_error: 1.8164 - val_loss: 1.7318 - val_mean_absolute_error: 1.0177\n",
      "\n",
      "Epoch 00016: val_mean_absolute_error did not improve from 0.57998\n",
      "Epoch 17/50\n",
      "39/39 [==============================] - 87s 2s/step - loss: 6.7480 - mean_absolute_error: 1.8042 - val_loss: 3.4491 - val_mean_absolute_error: 1.4587\n",
      "\n",
      "Epoch 00017: val_mean_absolute_error did not improve from 0.57998\n",
      "Epoch 18/50\n",
      "39/39 [==============================] - 88s 2s/step - loss: 6.8694 - mean_absolute_error: 1.8286 - val_loss: 0.8846 - val_mean_absolute_error: 0.7193\n",
      "\n",
      "Epoch 00018: val_mean_absolute_error did not improve from 0.57998\n",
      "Epoch 19/50\n",
      "39/39 [==============================] - 87s 2s/step - loss: 6.3440 - mean_absolute_error: 1.7348 - val_loss: 1.5317 - val_mean_absolute_error: 0.9239\n",
      "\n",
      "Epoch 00019: val_mean_absolute_error did not improve from 0.57998\n",
      "Epoch 20/50\n",
      "39/39 [==============================] - 88s 2s/step - loss: 6.5092 - mean_absolute_error: 1.7632 - val_loss: 1.8074 - val_mean_absolute_error: 1.0727\n",
      "\n",
      "Epoch 00020: val_mean_absolute_error did not improve from 0.57998\n",
      "Epoch 21/50\n",
      "39/39 [==============================] - 87s 2s/step - loss: 6.2161 - mean_absolute_error: 1.7036 - val_loss: 0.8967 - val_mean_absolute_error: 0.7305\n",
      "\n",
      "Epoch 00021: val_mean_absolute_error did not improve from 0.57998\n",
      "Epoch 22/50\n",
      "39/39 [==============================] - 88s 2s/step - loss: 6.3790 - mean_absolute_error: 1.7668 - val_loss: 1.5875 - val_mean_absolute_error: 0.9779\n",
      "\n",
      "Epoch 00022: val_mean_absolute_error did not improve from 0.57998\n",
      "Epoch 23/50\n",
      "39/39 [==============================] - 88s 2s/step - loss: 6.1438 - mean_absolute_error: 1.7077 - val_loss: 1.6492 - val_mean_absolute_error: 1.0671\n",
      "\n",
      "Epoch 00023: val_mean_absolute_error did not improve from 0.57998\n",
      "Epoch 24/50\n",
      "39/39 [==============================] - 88s 2s/step - loss: 6.0513 - mean_absolute_error: 1.7081 - val_loss: 0.7510 - val_mean_absolute_error: 0.6811\n",
      "\n",
      "Epoch 00024: val_mean_absolute_error did not improve from 0.57998\n",
      "Epoch 25/50\n",
      "39/39 [==============================] - 88s 2s/step - loss: 5.7372 - mean_absolute_error: 1.6411 - val_loss: 1.4911 - val_mean_absolute_error: 1.0300\n",
      "\n",
      "Epoch 00025: val_mean_absolute_error did not improve from 0.57998\n",
      "Epoch 26/50\n",
      "39/39 [==============================] - 88s 2s/step - loss: 6.2565 - mean_absolute_error: 1.7217 - val_loss: 0.5023 - val_mean_absolute_error: 0.5472\n",
      "\n",
      "Epoch 00026: val_mean_absolute_error improved from 0.57998 to 0.54725, saving model to weights.h5\n",
      "Epoch 27/50\n",
      "39/39 [==============================] - 88s 2s/step - loss: 5.9612 - mean_absolute_error: 1.6833 - val_loss: 0.5397 - val_mean_absolute_error: 0.5806\n",
      "\n",
      "Epoch 00027: val_mean_absolute_error did not improve from 0.54725\n",
      "Epoch 28/50\n",
      "39/39 [==============================] - 88s 2s/step - loss: 5.8990 - mean_absolute_error: 1.6592 - val_loss: 1.6251 - val_mean_absolute_error: 0.9518\n",
      "\n",
      "Epoch 00028: val_mean_absolute_error did not improve from 0.54725\n",
      "Epoch 29/50\n",
      "39/39 [==============================] - 87s 2s/step - loss: 5.7581 - mean_absolute_error: 1.6382 - val_loss: 0.4851 - val_mean_absolute_error: 0.5501\n",
      "\n",
      "Epoch 00029: val_mean_absolute_error did not improve from 0.54725\n",
      "Epoch 30/50\n",
      "39/39 [==============================] - 87s 2s/step - loss: 5.6816 - mean_absolute_error: 1.6371 - val_loss: 1.1489 - val_mean_absolute_error: 0.8547\n",
      "\n",
      "Epoch 00030: val_mean_absolute_error did not improve from 0.54725\n",
      "Epoch 31/50\n",
      "39/39 [==============================] - 87s 2s/step - loss: 5.7359 - mean_absolute_error: 1.6213 - val_loss: 1.7665 - val_mean_absolute_error: 1.0533\n",
      "\n",
      "Epoch 00031: val_mean_absolute_error did not improve from 0.54725\n",
      "Epoch 32/50\n",
      "39/39 [==============================] - 88s 2s/step - loss: 5.7019 - mean_absolute_error: 1.6229 - val_loss: 0.7338 - val_mean_absolute_error: 0.6458\n",
      "\n",
      "Epoch 00032: val_mean_absolute_error did not improve from 0.54725\n",
      "Epoch 33/50\n",
      "39/39 [==============================] - 88s 2s/step - loss: 5.6535 - mean_absolute_error: 1.6194 - val_loss: 0.5207 - val_mean_absolute_error: 0.5817\n",
      "\n",
      "Epoch 00033: val_mean_absolute_error did not improve from 0.54725\n",
      "Epoch 34/50\n",
      "39/39 [==============================] - 88s 2s/step - loss: 5.4637 - mean_absolute_error: 1.5794 - val_loss: 0.8704 - val_mean_absolute_error: 0.7259\n",
      "\n",
      "Epoch 00034: val_mean_absolute_error did not improve from 0.54725\n",
      "Epoch 35/50\n",
      "39/39 [==============================] - 87s 2s/step - loss: 5.7360 - mean_absolute_error: 1.6067 - val_loss: 0.7644 - val_mean_absolute_error: 0.6618\n",
      "\n",
      "Epoch 00035: val_mean_absolute_error did not improve from 0.54725\n",
      "Epoch 36/50\n",
      "39/39 [==============================] - 88s 2s/step - loss: 6.2213 - mean_absolute_error: 1.6784 - val_loss: 6.4041 - val_mean_absolute_error: 2.2182\n",
      "\n",
      "Epoch 00036: val_mean_absolute_error did not improve from 0.54725\n",
      "Epoch 37/50\n",
      "39/39 [==============================] - 87s 2s/step - loss: 8.7028 - mean_absolute_error: 2.0794 - val_loss: 2.4824 - val_mean_absolute_error: 1.2807\n",
      "\n",
      "Epoch 00037: val_mean_absolute_error did not improve from 0.54725\n",
      "Epoch 38/50\n",
      "39/39 [==============================] - 86s 2s/step - loss: 5.7749 - mean_absolute_error: 1.6578 - val_loss: 0.5533 - val_mean_absolute_error: 0.5837\n",
      "\n",
      "Epoch 00038: val_mean_absolute_error did not improve from 0.54725\n",
      "Epoch 39/50\n",
      "39/39 [==============================] - 87s 2s/step - loss: 5.4872 - mean_absolute_error: 1.5892 - val_loss: 0.6766 - val_mean_absolute_error: 0.6414\n",
      "\n",
      "Epoch 00039: val_mean_absolute_error did not improve from 0.54725\n",
      "Epoch 40/50\n",
      "39/39 [==============================] - 87s 2s/step - loss: 5.3863 - mean_absolute_error: 1.5845 - val_loss: 0.3256 - val_mean_absolute_error: 0.4461\n",
      "\n",
      "Epoch 00040: val_mean_absolute_error improved from 0.54725 to 0.44615, saving model to weights.h5\n",
      "Epoch 41/50\n",
      "39/39 [==============================] - 88s 2s/step - loss: 5.3784 - mean_absolute_error: 1.5729 - val_loss: 0.5816 - val_mean_absolute_error: 0.5827\n",
      "\n",
      "Epoch 00041: val_mean_absolute_error did not improve from 0.44615\n",
      "Epoch 42/50\n",
      "39/39 [==============================] - 88s 2s/step - loss: 5.4436 - mean_absolute_error: 1.5793 - val_loss: 0.8430 - val_mean_absolute_error: 0.6859\n",
      "\n",
      "Epoch 00042: val_mean_absolute_error did not improve from 0.44615\n",
      "Epoch 43/50\n",
      "39/39 [==============================] - 87s 2s/step - loss: 5.1498 - mean_absolute_error: 1.5209 - val_loss: 0.5901 - val_mean_absolute_error: 0.5712\n",
      "\n",
      "Epoch 00043: val_mean_absolute_error did not improve from 0.44615\n",
      "Epoch 44/50\n",
      "39/39 [==============================] - 87s 2s/step - loss: 5.3874 - mean_absolute_error: 1.5695 - val_loss: 0.3868 - val_mean_absolute_error: 0.4688\n",
      "\n",
      "Epoch 00044: val_mean_absolute_error did not improve from 0.44615\n",
      "Epoch 45/50\n",
      "39/39 [==============================] - 88s 2s/step - loss: 5.2148 - mean_absolute_error: 1.5361 - val_loss: 0.8600 - val_mean_absolute_error: 0.7266\n",
      "\n",
      "Epoch 00045: val_mean_absolute_error did not improve from 0.44615\n",
      "Epoch 46/50\n",
      "39/39 [==============================] - 88s 2s/step - loss: 5.1635 - mean_absolute_error: 1.5233 - val_loss: 0.2812 - val_mean_absolute_error: 0.4098\n",
      "\n",
      "Epoch 00046: val_mean_absolute_error improved from 0.44615 to 0.40981, saving model to weights.h5\n",
      "Epoch 47/50\n",
      "39/39 [==============================] - 88s 2s/step - loss: 4.9908 - mean_absolute_error: 1.5089 - val_loss: 0.3343 - val_mean_absolute_error: 0.4593\n",
      "\n",
      "Epoch 00047: val_mean_absolute_error did not improve from 0.40981\n",
      "Epoch 48/50\n",
      "39/39 [==============================] - 87s 2s/step - loss: 5.0767 - mean_absolute_error: 1.5129 - val_loss: 0.7526 - val_mean_absolute_error: 0.6435\n",
      "\n",
      "Epoch 00048: val_mean_absolute_error did not improve from 0.40981\n",
      "Epoch 49/50\n",
      "39/39 [==============================] - 88s 2s/step - loss: 5.0969 - mean_absolute_error: 1.5324 - val_loss: 0.3274 - val_mean_absolute_error: 0.4534\n",
      "\n",
      "Epoch 00049: val_mean_absolute_error did not improve from 0.40981\n",
      "Epoch 50/50\n",
      "39/39 [==============================] - 88s 2s/step - loss: 4.8256 - mean_absolute_error: 1.4717 - val_loss: 0.1958 - val_mean_absolute_error: 0.3419\n",
      "\n",
      "Epoch 00050: val_mean_absolute_error improved from 0.40981 to 0.34188, saving model to weights.h5\n"
     ]
    }
   ],
   "source": [
    "history = model.fit_generator(train_generator,\n",
    "                              steps_per_epoch=train_generator.samples//batch_size,\n",
    "                              epochs=num_epochs, callbacks=[checkpoint],\n",
    "                              validation_data=valid_generator,\n",
    "                              validation_steps=valid_generator.samples//batch_size)"
   ]
  },
  {
   "cell_type": "code",
   "execution_count": 0,
   "metadata": {
    "colab": {},
    "colab_type": "code",
    "id": "2q8_qhND0fBa"
   },
   "outputs": [],
   "source": [
    "def mse(y_true, y_pred):\n",
    "    return K.mean(K.square(y_pred - y_true), axis=-1)"
   ]
  },
  {
   "cell_type": "code",
   "execution_count": 17,
   "metadata": {
    "colab": {
     "base_uri": "https://localhost:8080/",
     "height": 292
    },
    "colab_type": "code",
    "id": "OMZHryXnKw7o",
    "outputId": "b6f0a971-1087-4992-ec43-e65a9156cac3"
   },
   "outputs": [
    {
     "name": "stdout",
     "output_type": "stream",
     "text": [
      "Downloading data from https://github.com/fchollet/deep-learning-models/releases/download/v0.1/vgg16_weights_tf_dim_ordering_tf_kernels_notop.h5\n",
      "58892288/58889256 [==============================] - 3s 0us/step\n",
      "_________________________________________________________________\n",
      "Layer (type)                 Output Shape              Param #   \n",
      "=================================================================\n",
      "vgg16 (Model)                (None, 4, 4, 512)         14714688  \n",
      "_________________________________________________________________\n",
      "flatten_1 (Flatten)          (None, 8192)              0         \n",
      "_________________________________________________________________\n",
      "sequential_2 (Sequential)    (None, 1)                 2130433   \n",
      "=================================================================\n",
      "Total params: 16,845,121\n",
      "Trainable params: 9,209,857\n",
      "Non-trainable params: 7,635,264\n",
      "_________________________________________________________________\n"
     ]
    }
   ],
   "source": [
    "model = get_model()\n",
    "model.load_weights('weights.h5')\n",
    "model.compile(optimizer=optimizers.Adam(lr), loss='mse', metrics=['mae', mse])"
   ]
  },
  {
   "cell_type": "code",
   "execution_count": 22,
   "metadata": {
    "colab": {
     "base_uri": "https://localhost:8080/",
     "height": 85
    },
    "colab_type": "code",
    "id": "QZV9JFK0jpOS",
    "outputId": "5dd2876e-1b5c-4962-fe8d-dd9236ab6b4f"
   },
   "outputs": [
    {
     "name": "stdout",
     "output_type": "stream",
     "text": [
      "Test \n",
      " loss:0.20567535177657478 \n",
      " mae:0.3492529564782193 \n",
      " mse:0.20567535177657478\n"
     ]
    }
   ],
   "source": [
    "evaluate = model.evaluate_generator(test_generator,\n",
    "                                   steps=test_generator.samples//batch_size)\n",
    "\n",
    "print('Test \\n loss:{} \\n mae:{} \\n mse:{}'.format(evaluate[0], evaluate[1], evaluate[2]))"
   ]
  },
  {
   "cell_type": "code",
   "execution_count": 0,
   "metadata": {
    "colab": {},
    "colab_type": "code",
    "id": "0V7CrXLE6Kag"
   },
   "outputs": [],
   "source": [
    "from google.colab import files\n",
    "files.download('weights.h5')"
   ]
  }
 ],
 "metadata": {
  "accelerator": "GPU",
  "colab": {
   "collapsed_sections": [],
   "name": "Vehicle_Speed_train.ipynb",
   "provenance": [],
   "version": "0.3.2"
  },
  "kernelspec": {
   "display_name": "Python 3",
   "language": "python",
   "name": "python3"
  },
  "language_info": {
   "codemirror_mode": {
    "name": "ipython",
    "version": 3
   },
   "file_extension": ".py",
   "mimetype": "text/x-python",
   "name": "python",
   "nbconvert_exporter": "python",
   "pygments_lexer": "ipython3",
   "version": "3.6.6"
  }
 },
 "nbformat": 4,
 "nbformat_minor": 1
}
